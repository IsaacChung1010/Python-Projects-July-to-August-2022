{
 "cells": [
  {
   "cell_type": "markdown",
   "metadata": {
    "id": "RtM4dmPrDpl9"
   },
   "source": [
    "<br>\n",
    "\n",
    "### &nbsp; Greenscreening!"
   ]
  },
  {
   "cell_type": "code",
   "execution_count": null,
   "metadata": {
    "id": "I5mCvn57DpmA"
   },
   "outputs": [],
   "source": [
    "# libraries!\n",
    "import numpy as np\n",
    "from matplotlib import pyplot as plt\n",
    "from PIL import Image\n",
    "import copy\n",
    "import colorsys\n",
    "import time"
   ]
  },
  {
   "cell_type": "code",
   "execution_count": null,
   "metadata": {
    "id": "p7NCt9GoDpmC"
   },
   "outputs": [],
   "source": [
    "def getRGB(filename):\n",
    "    \"\"\" reads a png or jpg file like 'flag.jpg' (a string)\n",
    "        returns the pixels as a list-of-lists-of-lists\n",
    "        this is accessible, but not fast: Use small images!\n",
    "    \"\"\"\n",
    "    original = Image.open(filename)     # open the image\n",
    "    print(f\"Reading image from '{filename}':\")\n",
    "    print(f\"  Format: {original.format}\\n  Original Size: {original.size}\\n  Mode: {original.mode}\")\n",
    "    max_dim = max(original.size)\n",
    "    scale = max_dim/300\n",
    "    new_size = tuple([round(x/scale) for x in original.size])\n",
    "    print(f\"WARNING:  New size is {new_size}\")\n",
    "    original = original.resize(new_size)\n",
    "    WIDTH, HEIGHT = original.size\n",
    "    px = original.load()\n",
    "    PIXEL_LIST = []\n",
    "    for r in range(HEIGHT):\n",
    "        row = []\n",
    "        for c in range(WIDTH):\n",
    "            row.append( px[c,r][:3] )\n",
    "        PIXEL_LIST.append( row )\n",
    "    return PIXEL_LIST\n"
   ]
  },
  {
   "cell_type": "code",
   "execution_count": null,
   "metadata": {
    "id": "Ha5lOwlEDpmC"
   },
   "outputs": [],
   "source": [
    "def set_size(width, height, ax=None):\n",
    "    \"\"\"Sets the size of an image when printing in the notebook\n",
    "       w, h: width, height in inches \n",
    "    \"\"\"\n",
    "    w = width; h = height\n",
    "    if not ax: \n",
    "        ax=plt.gca()  # gets current axes\n",
    "    l = ax.figure.subplotpars.left\n",
    "    r = ax.figure.subplotpars.right\n",
    "    t = ax.figure.subplotpars.top\n",
    "    b = ax.figure.subplotpars.bottom\n",
    "    figw = float(w)/(r-l)\n",
    "    figh = float(h)/(t-b)\n",
    "    ax.figure.set_size_inches(figw, figh)"
   ]
  },
  {
   "cell_type": "code",
   "execution_count": null,
   "metadata": {
    "id": "pL9vdtNCDpmD"
   },
   "outputs": [],
   "source": [
    "# wrapper for matplotlib's show function\n",
    "def show_image( rgbdata, hgt_in=5.42, wid_in=5.42 ):\n",
    "    \"\"\" shows an image whose pixels are in rgbdata \n",
    "        note:  rgbdata is a list-of-rows-of-pixels-of-rgb values, _not_ a filename!\n",
    "            use getRGB() to get this data!\n",
    "        hgt_in is the desired height (in inches)\n",
    "        wid_in is the desired width (in inches)\n",
    "            use set_size() with these parameters\n",
    "        _but_ the library will not change the aspect ratio (takes the smaller)\n",
    "        by default, the hgt_in and wid_in are 5.42 in.\n",
    "        (and feel free to change these!)\n",
    "    \"\"\"\n",
    "    fig, ax = plt.subplots()               # obtains the figure and axes objects\n",
    "    im = ax.imshow(rgbdata)                # this is matplotlib's call to show an image \n",
    "    #set_size(width=wid_in, height=hgt_in)  # matplotlib will maintain the image's aspect ratio\n",
    "    ax.axis('off')                         # turns off the axes (in units of pixels)\n",
    "    plt.show()                             # show the image"
   ]
  },
  {
   "cell_type": "markdown",
   "metadata": {
    "id": "DiPvonfBDpmD"
   },
   "source": [
    "## A first image\n",
    "\n",
    "First we call `rgbdata = getRGB(filename)` to get the pixel data as a list-of-lists-of-lists\n",
    "\n",
    "Then we use the `show_image(rgbdata)` function to print the image in the notebook!\n",
    "\n",
    "\n",
    "Most magic functions start with a `%` symbol\n",
    "\n",
    "Similar to a terminal, we can use `%pwd` to see your current directory (wherever this notebook is located) and `%ls` to see all of the files in your current directory"
   ]
  },
  {
   "cell_type": "code",
   "execution_count": null,
   "metadata": {
    "id": "9gTM2mBwDpmE"
   },
   "outputs": [],
   "source": [
    "curdir = %pwd\n",
    "print(f\"Here are all of the files in {curdir}\\n\")\n",
    "%ls"
   ]
  },
  {
   "cell_type": "code",
   "execution_count": null,
   "metadata": {
    "id": "JZGijp9pDpmE"
   },
   "outputs": [],
   "source": [
    "filename = \"flag.png\"   # pick an image from the list above!\n",
    "rgbdata = getRGB(filename)\n",
    "show_image(rgbdata)"
   ]
  },
  {
   "cell_type": "markdown",
   "metadata": {
    "id": "vWMPRmqaDpmF"
   },
   "source": [
    "## Manipulating RGB Data\n",
    "\n",
    "For a given image, we can create three new images:\n",
    "- Red values only: [42, 42, 42] becomes [42, 0, 0]\n",
    "- Green values only: [42, 42, 42] becomes [0, 42, 0]\n",
    "- Blue values only: [42, 42, 42] becomes [0, 0, 42]"
   ]
  },
  {
   "cell_type": "code",
   "execution_count": null,
   "metadata": {
    "id": "tVqxsNjYDpmF"
   },
   "outputs": [],
   "source": [
    "def oneColor(pixel, color):\n",
    "    \"\"\"Changes a pixel to only have one color value\n",
    "       makes other values 0\"\"\"\n",
    "    \n",
    "    if color == \"red\":\n",
    "        r = pixel[0]\n",
    "        pixel = [r,0,0]\n",
    "        \n",
    "    elif color == \"green\":\n",
    "        g = pixel[1]\n",
    "        pixel = [0,g,0]\n",
    "        \n",
    "    elif color == \"blue\":\n",
    "        b = pixel[2]\n",
    "        pixel = [0,0,b]\n",
    "        \n",
    "    else:\n",
    "        print(f\"didn't recognize color of {color}\")\n",
    "        \n",
    "    return pixel"
   ]
  },
  {
   "cell_type": "code",
   "execution_count": null,
   "metadata": {
    "id": "pOoVxtvTDpmG"
   },
   "outputs": [],
   "source": [
    "filename = \"flag.png\"   # pick an image!\n",
    "rgbdata = np.asarray(getRGB(filename))   # turn list-list-list data into a numpy array\n",
    "\n",
    "print(\"\\nRunning...\\n\")\n",
    "image_r = np.apply_along_axis(oneColor, 2, rgbdata, \"red\")   # this applies the function oneColor to each pixel\n",
    "image_g = np.apply_along_axis(oneColor, 2, rgbdata, \"green\") # this applies the function oneColor to each pixel\n",
    "image_b = np.apply_along_axis(oneColor, 2, rgbdata, \"blue\")  # this applies the function oneColor to each pixel\n",
    "\n",
    "print(f\"The original pixel in the top left corner is {rgbdata[0][0]}\")\n",
    "print(f\"The red-only pixel in the top left corner is {image_r[0][0]}\")\n",
    "print(f\"The green-only pixel in the top left corner is {image_g[0][0]}\")\n",
    "print(f\"The blue-only pixel in the top left corner is {image_b[0][0]}\")\n",
    "\n",
    "# let's show off how to create multiple images in one figure\n",
    "\n",
    "fig, ax = plt.subplots(2,2, figsize=(10,6))   # this means ax will be a 2x2 numpy array of axes!\n",
    "\n",
    "ax[0,0].imshow(rgbdata)  # very similar to show_image() function\n",
    "ax[0,0].axis('off')  \n",
    "ax[0,0].set_title('all colors') \n",
    "\n",
    "ax[0,1].imshow(image_r)  # need this so as not to use a color-colormap!\n",
    "ax[0,1].axis('off')   \n",
    "ax[0,1].set_title('red only')\n",
    "\n",
    "ax[1,0].imshow(image_g, cmap='gray')\n",
    "ax[1,0].axis('off')   \n",
    "ax[1,0].set_title('green only')\n",
    "\n",
    "ax[1,1].imshow(image_b, cmap='gray')\n",
    "ax[1,1].axis('off')  \n",
    "ax[1,1].set_title('blue only')\n",
    "\n",
    "plt.show()"
   ]
  },
  {
   "cell_type": "code",
   "execution_count": null,
   "metadata": {},
   "outputs": [],
   "source": [
    "def grayscaleColor(pixel, color):\n",
    "    \"\"\"Changes a pixel to only have one color value\n",
    "       makes other values 0\"\"\"\n",
    "    \n",
    "    if color == \"red\":\n",
    "        r = pixel[0]\n",
    "        pixel = [r,r,r]\n",
    "        \n",
    "    elif color == \"green\":\n",
    "        g = pixel[1]\n",
    "        pixel = [g,g,g]\n",
    "        \n",
    "    elif color == \"blue\":\n",
    "        b = pixel[2]\n",
    "        pixel = [b,b,b]\n",
    "        \n",
    "    else:\n",
    "        print(f\"didn't recognize color of {color}\")\n",
    "        \n",
    "    return pixel"
   ]
  },
  {
   "cell_type": "code",
   "execution_count": null,
   "metadata": {},
   "outputs": [],
   "source": [
    "filename = \"flag.png\"   # pick an image!\n",
    "rgbdata = np.asarray(getRGB(filename))   # turn list-list-list data into a numpy array\n",
    "\n",
    "print(\"\\nRunning...\\n\")\n",
    "image_r = np.apply_along_axis(grayscaleColor, 2, rgbdata, \"red\")\n",
    "image_g = np.apply_along_axis(grayscaleColor, 2, rgbdata, \"green\")\n",
    "image_b = np.apply_along_axis(grayscaleColor, 2, rgbdata, \"blue\")\n",
    "\n",
    "print(f\"The original pixel in the top left corner is {rgbdata[0][0]}\")\n",
    "print(f\"The red-only pixel in the top left corner is {image_r[0][0]}\")\n",
    "print(f\"The green-only pixel in the top left corner is {image_g[0][0]}\")\n",
    "print(f\"The blue-only pixel in the top left corner is {image_b[0][0]}\")\n",
    "\n",
    "# let's show off how to create multiple images in one figure\n",
    "\n",
    "fig, ax = plt.subplots(2,2, figsize=(10,6))   # this means ax will be a 2x2 numpy array of axes!\n",
    "\n",
    "ax[0,0].imshow(rgbdata)  # very similar to show_image() function\n",
    "ax[0,0].axis('off')  \n",
    "ax[0,0].set_title('all colors') \n",
    "\n",
    "ax[0,1].imshow(image_r)  # need this so as not to use a color-colormap!\n",
    "ax[0,1].axis('off')   \n",
    "ax[0,1].set_title('red only')\n",
    "\n",
    "ax[1,0].imshow(image_g, cmap='gray')\n",
    "ax[1,0].axis('off')   \n",
    "ax[1,0].set_title('green only')\n",
    "\n",
    "ax[1,1].imshow(image_b, cmap='gray')\n",
    "ax[1,1].axis('off')  \n",
    "ax[1,1].set_title('blue only')\n",
    "\n",
    "plt.show()"
   ]
  },
  {
   "cell_type": "markdown",
   "metadata": {
    "id": "wUDwNaWEDpmH"
   },
   "source": [
    "## Manipulating HSV Data"
   ]
  },
  {
   "cell_type": "code",
   "execution_count": null,
   "metadata": {
    "id": "oolSewT1DpmH"
   },
   "outputs": [],
   "source": [
    "def rgb2hsv(rgb):\n",
    "    \"\"\"Converts an RGB pixel (r/g/b: 0-255)\n",
    "    to an HSV pixel (h: 0-360, s/v: 0-100)\"\"\"\n",
    "    R, G, B = rgb[0]/255, rgb[1]/255, rgb[2]/255\n",
    "    hsv = colorsys.rgb_to_hsv(R,G,B)\n",
    "    return [round(hsv[0]*360, 2), round(hsv[1]*100, 2), round(hsv[2]*100, 2)]"
   ]
  },
  {
   "cell_type": "code",
   "execution_count": null,
   "metadata": {
    "id": "o8UZG3HqDpmI"
   },
   "outputs": [],
   "source": [
    "rgb = [10, 20, 50]\n",
    "print(f\"RGB pixel is {rgb}\")\n",
    "print(f\"HSV pixel is {rgb2hsv(rgb)}\")"
   ]
  },
  {
   "cell_type": "code",
   "execution_count": null,
   "metadata": {
    "id": "-pkpAKbTDpmI"
   },
   "outputs": [],
   "source": [
    "def hsv2rgb(hsv):\n",
    "    \"\"\"Converts an HSV pixel (h: 0-360, s/v: 0-100)\n",
    "    to an RGB pixel (r/g/b: 0-255)\"\"\"\n",
    "    H, S, V = hsv[0]/360, hsv[1]/100, hsv[2]/100\n",
    "    return list(round(i * 255) for i in colorsys.hsv_to_rgb(H,S,V))"
   ]
  },
  {
   "cell_type": "code",
   "execution_count": null,
   "metadata": {
    "id": "q70xd0-EDpmI"
   },
   "outputs": [],
   "source": [
    "hsv = [225, 80, 19.61]\n",
    "print(f\"HSV pixel is {hsv}\")\n",
    "print(f\"RGB pixel is {hsv2rgb(hsv)}\")"
   ]
  },
  {
   "cell_type": "code",
   "execution_count": null,
   "metadata": {
    "id": "IogafCIPDpmI"
   },
   "outputs": [],
   "source": [
    "def halveAttribute(pixel, att):\n",
    "    \"\"\"Changes a pixel by halving an HSV attribute\n",
    "       leaves other values alone\"\"\"\n",
    "    \n",
    "    if att == \"hue\":\n",
    "        h, s, v = pixel\n",
    "        pixel = [h/2, s, v]\n",
    "        \n",
    "    elif att == \"saturation\":\n",
    "        h, s, v = pixel\n",
    "        pixel = [h, s/2, v]\n",
    "        \n",
    "    elif att == \"value\":\n",
    "        h, s, v = pixel\n",
    "        pixel = [h, s, v/2]\n",
    "        \n",
    "    return pixel"
   ]
  },
  {
   "cell_type": "markdown",
   "metadata": {
    "id": "1R-hjlEzDpmI"
   },
   "source": [
    "### NOTE\n",
    "\n",
    "Converting back and forth between RGB and HSV will likely take at least a few seconds, so we have separated the calculation and graphing cells..."
   ]
  },
  {
   "cell_type": "code",
   "execution_count": null,
   "metadata": {
    "id": "uThLj8M-DpmJ"
   },
   "outputs": [],
   "source": [
    "filename = \"flag.png\"   # pick an image!\n",
    "rgbdata = np.asarray(getRGB(filename))   # turn list-list-list data into a numpy array\n",
    "print(\"\\n..........\")\n",
    "hsvdata = np.apply_along_axis(rgb2hsv, 2, rgbdata)   # convert to hsv\n",
    "print(\"Data converted to HSV format\")\n",
    "print(\"..........\")\n",
    "\n",
    "# modify hsv data by halving an attribute\n",
    "image_h = np.apply_along_axis(halveAttribute, 2, hsvdata, \"hue\")\n",
    "image_s = np.apply_along_axis(halveAttribute, 2, hsvdata, \"value\")\n",
    "image_v = np.apply_along_axis(halveAttribute, 2, hsvdata, \"saturation\")\n",
    "print(\"Attributes cut in half\")\n",
    "print(\"..........\")\n",
    "\n",
    "# convert back to rgb for matplotlib to display\n",
    "image_h = np.apply_along_axis(hsv2rgb, 2, image_h).astype(int)\n",
    "image_s = np.apply_along_axis(hsv2rgb, 2, image_s).astype(int)\n",
    "image_v = np.apply_along_axis(hsv2rgb, 2, image_v).astype(int)\n",
    "print(\"DONE\")"
   ]
  },
  {
   "cell_type": "code",
   "execution_count": null,
   "metadata": {
    "id": "fIdrLZj7DpmJ"
   },
   "outputs": [],
   "source": [
    "fig, ax = plt.subplots(2,2, figsize=(10,6))\n",
    "\n",
    "ax[0,0].imshow(rgbdata)\n",
    "ax[0,0].axis('off')  \n",
    "ax[0,0].set_title('all colors') \n",
    "\n",
    "ax[0,1].imshow(image_h)\n",
    "ax[0,1].axis('off')   \n",
    "ax[0,1].set_title('half hue')\n",
    "\n",
    "ax[1,0].imshow(image_s)\n",
    "ax[1,0].axis('off')   \n",
    "ax[1,0].set_title('half saturation')\n",
    "\n",
    "ax[1,1].imshow(image_v)\n",
    "ax[1,1].axis('off')  \n",
    "ax[1,1].set_title('half value')\n",
    "\n",
    "plt.show()"
   ]
  },
  {
   "cell_type": "markdown",
   "metadata": {
    "id": "VRNAtLs1DpmJ"
   },
   "source": [
    "# Image Filters\n",
    "\n",
    "Below are some filters! \n",
    "\n",
    "- `max_green()` maximizes (255) the green value of a pixel _**if**_ the original value contains a \"1\"\n",
    "- `binary_green()` converts the base-10 green value of a pixel to an 8-bit binary string (42 --> \"00101010\"), changes the first and last bit to a \"1\" (\"00101010 --> \"10101011\"), and then converts back to base-10 (\"10101011\" --> 171)\n",
    "- `hsv_green()` converts an image to HSV and maximizes the green value of a pixel _**if**_ the h value is between 120 and 240 (degrees) \n"
   ]
  },
  {
   "cell_type": "code",
   "execution_count": null,
   "metadata": {
    "id": "DgIVQRwrDpmJ"
   },
   "outputs": [],
   "source": [
    "def max_green_w1( image_rgb ):\n",
    "    \"\"\" an example of a pixel-by-pixel filter \n",
    "            this one sets to \"max green\" any pixel with a '1' (a one digit) in its (decimal) green value\n",
    "            [42, 42, 42]  --> [42, 42, 42]\n",
    "            [42, 142, 42] --> [42,255,42]\n",
    "        input: an r, g, b image\n",
    "        output: a transformed r, g, b image\n",
    "    \"\"\"\n",
    "    image_new = copy.deepcopy(image_rgb)   # start with a copy of the original...\n",
    "    num_rows = len(image_new) \n",
    "    num_cols = len(image_new[0]) \n",
    "    \n",
    "    for row in range(num_rows):             # loop over each row\n",
    "        for col in range(num_cols):         # loop over each column\n",
    "            r, g, b = image_rgb[row][col]   # the \"old\" pixel's rgb\n",
    "            \n",
    "            green_as_str = str(g)\n",
    "            if '1' in green_as_str:   # not in photoshop!\n",
    "                image_new[row][col] = [r,255,b]\n",
    "            else:\n",
    "                image_new[row][col] = [r,g,b]     \n",
    "            \n",
    "    return image_new"
   ]
  },
  {
   "cell_type": "code",
   "execution_count": null,
   "metadata": {
    "id": "g-70SiCaDpmK"
   },
   "outputs": [],
   "source": [
    "image_rgb = getRGB(\"flag.jpg\")\n",
    "image_new = max_green_w1(image_rgb)\n",
    "\n",
    "fig, ax = plt.subplots(1,2, figsize=(10,3))\n",
    "\n",
    "ax[0].imshow(image_rgb)\n",
    "ax[0].axis('off')   \n",
    "ax[0].set_title('original')\n",
    "\n",
    "ax[1].imshow(image_new)\n",
    "ax[1].axis('off')   \n",
    "ax[1].set_title(\"max green if '1' in g\")\n",
    "\n",
    "plt.show()"
   ]
  },
  {
   "cell_type": "code",
   "execution_count": null,
   "metadata": {
    "id": "GoMpiAI8DpmK"
   },
   "outputs": [],
   "source": [
    "def binary_green( image_rgb ):\n",
    "    \"\"\" an example of a pixel-by-pixel filter:  \n",
    "            this one sets the \"bottom two bits\" of each green value to zeros, e.g.,\n",
    "            old green value:   '00101010'   # always 8 bits...\n",
    "            new green value:   '10101011'   # always 8 bits, starting and ending with a 1\n",
    "        input: an r, g, b image\n",
    "        output: a transformed r, g, b image\n",
    "    \"\"\"\n",
    "    image_new = copy.deepcopy(image_rgb)         # start with a copy of the original...\n",
    "    num_rows = len(image_new) \n",
    "    num_cols = len(image_new[0]) \n",
    "    \n",
    "    for row in range(num_rows):             # loop over each row\n",
    "        for col in range(num_cols):         # loop over each column\n",
    "            r, g, b = image_rgb[row][col]   # the \"old\" pixel's rgb\n",
    "            \n",
    "            # remember:  we can do anything with the pixel data... here, let's convert to binary\n",
    "            \n",
    "            green_in_binary = bin(g)[2:]\n",
    "            nbits = len(green_in_binary)    # to make sure we have 8 bits...\n",
    "            green_in_binary = '0'*(8-nbits) + green_in_binary\n",
    "            green_in_binary = '1' + green_in_binary[1:-1] + '1'\n",
    "            \n",
    "            new_g = int(green_in_binary, 2)  # convert back to base 10 (did you know that int() could do that?)\n",
    "            \n",
    "            image_new[row][col] = r, new_g, b\n",
    "            \n",
    "    return image_new"
   ]
  },
  {
   "cell_type": "code",
   "execution_count": null,
   "metadata": {
    "id": "mDQnMilZDpmK"
   },
   "outputs": [],
   "source": [
    "image_rgb = getRGB(\"flag.jpg\") \n",
    "image_new = binary_green(image_rgb)\n",
    "\n",
    "fig, ax = plt.subplots(1,2, figsize=(10,3)) \n",
    "\n",
    "ax[0].imshow(image_rgb)\n",
    "ax[0].axis('off')   \n",
    "ax[0].set_title('original')\n",
    "\n",
    "ax[1].imshow(image_new)\n",
    "ax[1].axis('off')   \n",
    "ax[1].set_title('binary conversion')\n",
    "\n",
    "plt.show()"
   ]
  },
  {
   "cell_type": "code",
   "execution_count": null,
   "metadata": {
    "id": "w-YyLaQPDpmK"
   },
   "outputs": [],
   "source": [
    "def hsv_green( image_rgb ):\n",
    "    \"\"\" an example of a pixel-by-pixel filter that uses hsv (to detect green!)\n",
    "        NOTE: the input and output are still rgb!!!\n",
    "        We're simply _using_ the hsv representation in a meaningful way...\n",
    "        \n",
    "        input: an r, g, b image\n",
    "        output: a transformed r, g, b image\n",
    "    \"\"\"\n",
    "    image_new = np.asarray(image_rgb)\n",
    "    num_rows = len(image_new) \n",
    "    num_cols = len(image_new[0]) \n",
    "    \n",
    "    image_hsv = np.apply_along_axis(rgb2hsv, 2, image_new)      # convert to hsv\n",
    "    \n",
    "    for row in range(num_rows):             # loop over each row\n",
    "        for col in range(num_cols):         # loop over each column\n",
    "            r, g, b = image_rgb[row][col]   # the \"old\" pixel's rgb\n",
    "            h, s, v = image_hsv[row][col]   # the \"old\" pixel's hsv\n",
    "            \n",
    "            if 40<h<60:  # let's call this \"green\"\n",
    "                image_new[row][col] = [0,255,0]  # maximize its greenness\n",
    "            else:\n",
    "                pass  # don't change the original pixel otherwise...   \n",
    "            \n",
    "    return image_new"
   ]
  },
  {
   "cell_type": "code",
   "execution_count": null,
   "metadata": {
    "id": "ghLcAJVbDpmK"
   },
   "outputs": [],
   "source": [
    "image_rgb = getRGB(\"flag.jpg\") \n",
    "image_new = hsv_green(image_rgb)\n",
    "\n",
    "fig, ax = plt.subplots(1,2, figsize=(10,3)) \n",
    "\n",
    "ax[0].imshow(image_rgb)\n",
    "ax[0].axis('off')   \n",
    "ax[0].set_title('original')\n",
    "\n",
    "ax[1].imshow(image_new)\n",
    "ax[1].axis('off')   \n",
    "ax[1].set_title('hsv green')\n",
    "\n",
    "plt.show()"
   ]
  },
  {
   "cell_type": "markdown",
   "metadata": {
    "id": "PgN6bpOlDpmL"
   },
   "source": [
    "<br>\n",
    "\n",
    "# One-image filters\n"
   ]
  },
  {
   "cell_type": "code",
   "execution_count": null,
   "metadata": {
    "id": "hKm_vDYKDpmL"
   },
   "outputs": [],
   "source": [
    "def new_rgb_filter( image_file ):\n",
    "    \"\"\" better docstring needed! Explain your filter! \"\"\"\n",
    "    \n",
    "    image_new = copy.deepcopy(image_rgb)         # start with a copy of the original...\n",
    "    num_rows = len(image_new) \n",
    "    num_cols = len(image_new[0]) \n",
    "    \n",
    "    for row in range(num_rows):             # loop over each row\n",
    "        for col in range(num_cols):         # loop over each column\n",
    "            r, g, b = image_rgb[row][col]   # the \"old\" pixel's rgb\n",
    "            \n",
    "    return image_new"
   ]
  },
  {
   "cell_type": "code",
   "execution_count": null,
   "metadata": {
    "id": "py76LKEyDpmL"
   },
   "outputs": [],
   "source": [
    "image_rgb = getRGB(\"flag.jpg\") \n",
    "image_new = new_rgb_filter(image_rgb)\n",
    "\n",
    "fig, ax = plt.subplots(1,2, figsize=(10,3)) \n",
    "\n",
    "ax[0].imshow(image_rgb)\n",
    "ax[0].axis('off')   \n",
    "ax[0].set_title('original')\n",
    "\n",
    "ax[1].imshow(image_new)\n",
    "ax[1].axis('off')   \n",
    "ax[1].set_title('filtered')\n",
    "\n",
    "plt.show()"
   ]
  },
  {
   "cell_type": "code",
   "execution_count": null,
   "metadata": {
    "id": "wGOW9UVYDpmL"
   },
   "outputs": [],
   "source": [
    "def new_hsv_filter( image_file ):\n",
    "    \"\"\" better docstring needed! Explain your filter! \"\"\"\n",
    "    \n",
    "    image_new = np.asarray(image_rgb)\n",
    "    num_rows = len(image_new) \n",
    "    num_cols = len(image_new[0]) \n",
    "    image_hsv = np.apply_along_axis(rgb2hsv, 2, image_new)   # convert to hsv\n",
    "    \n",
    "    for row in range(num_rows):             # loop over each row\n",
    "        for col in range(num_cols):         # loop over each column\n",
    "            r, g, b = image_rgb[row][col]   # the \"old\" pixel's rgb\n",
    "            h, s, v = image_hsv[row][col]   # the \"old\" pixel's hsv\n",
    "            \n",
    "    return image_new"
   ]
  },
  {
   "cell_type": "code",
   "execution_count": null,
   "metadata": {
    "id": "sMC5wOE7DpmL"
   },
   "outputs": [],
   "source": [
    "image_rgb = getRGB(\"flag.jpg\") \n",
    "image_new = new_hsv_filter(image_rgb)\n",
    "\n",
    "fig, ax = plt.subplots(1,2, figsize=(10,3)) \n",
    "\n",
    "ax[0].imshow(image_rgb)\n",
    "ax[0].axis('off')   \n",
    "ax[0].set_title('original')\n",
    "\n",
    "ax[1].imshow(image_new)\n",
    "ax[1].axis('off')   \n",
    "ax[1].set_title('filtered')\n",
    "\n",
    "plt.show()"
   ]
  },
  {
   "cell_type": "markdown",
   "metadata": {
    "id": "sRiSomwfDpmL"
   },
   "source": [
    "## Two-image filters\n",
    "\n",
    "- `two_image_min()` combines both pictures by taking the minimum value between pixels. For example, if image-1 has pixel [10, 100, 130] and image-2 has pixel [42, 42, 20] in the same location, the new image will have pixel [10, 42, 20] in that location\n",
    "\n",
    "- `time_image_overlap()` is more straightforward. It takes image-2 and puts it on top of image-1 at coordinates (where the top left corner is the origin) you can specify"
   ]
  },
  {
   "cell_type": "code",
   "execution_count": null,
   "metadata": {
    "id": "_aId3mPCDpmM"
   },
   "outputs": [],
   "source": [
    "def two_image_min( image_rgb1, image_rgb2 ):\n",
    "    \"\"\" an example of a two-image pixel-by-pixel filter\n",
    "            this takes the componentwise min! hmmm...\n",
    "        input: two r, g, b images\n",
    "        output: a transformed r, g, b image (the \"min image\")\n",
    "    \"\"\"\n",
    "    num_rows1 = len(image_rgb1) \n",
    "    num_cols1 = len(image_rgb1[0]) \n",
    "    \n",
    "    num_rows2 = len(image_rgb2) \n",
    "    num_cols2 = len(image_rgb2[0]) \n",
    "    \n",
    "    num_rows = min(num_rows1,num_rows2)\n",
    "    num_cols = min(num_cols1,num_cols2)\n",
    "    \n",
    "    # create a blank image\n",
    "    image_new = np.zeros((num_rows,num_cols,3), np.uint8) \n",
    "    # uint8 means unsigned 8-bit integer (0-255) \n",
    "    \n",
    "    for row in range(num_rows):  # loop over each row\n",
    "        for col in range(num_cols):  # loop over each column\n",
    "            r1, g1, b1 = image_rgb1[row][col]   # the \"old\" pixel1's rgb\n",
    "            r2, g2, b2 = image_rgb2[row][col]   # the \"old\" pixel2's rgb\n",
    "\n",
    "            r = min(r1, r2)\n",
    "            g = min(g1, g2)\n",
    "            b = min(b1, b2)\n",
    "            \n",
    "            image_new[row][col] = [r,g,b]\n",
    "            \n",
    "    return image_new"
   ]
  },
  {
   "cell_type": "code",
   "execution_count": null,
   "metadata": {
    "id": "DHc9j4TADpmM"
   },
   "outputs": [],
   "source": [
    "file1 = \"flag.jpg\"    # Changeable!\n",
    "file2 = \"coffee.jpg\"\n",
    "\n",
    "image_rgb1 = getRGB(file1) \n",
    "image_rgb2 = getRGB(file2) \n",
    "image_new = two_image_min(image_rgb1,image_rgb2)\n",
    "\n",
    "fig, ax = plt.subplots(1,3, figsize=(12, 3))\n",
    "\n",
    "ax[0].imshow(image_rgb1)\n",
    "ax[0].axis('off')   \n",
    "ax[0].set_title(f\"{file1}\")\n",
    "\n",
    "ax[1].imshow(image_rgb2)\n",
    "ax[1].axis('off')   \n",
    "ax[1].set_title(f\"{file2}\")\n",
    "\n",
    "ax[2].imshow(image_new)\n",
    "ax[2].axis('off')   \n",
    "ax[2].set_title('two image min')\n",
    "\n",
    "plt.show()"
   ]
  },
  {
   "cell_type": "code",
   "execution_count": null,
   "metadata": {
    "id": "U1o97OQiDpmM"
   },
   "outputs": [],
   "source": [
    "def two_image_overlap( image_rgb1, image_rgb2, ulx, uly ):\n",
    "    \"\"\" an example of a two-image pixel-by-pixel filter\n",
    "            puts im2 on top of im1 at upper-left-x (ulx) (col) and upper-left-y (uly) (row)\n",
    "            the resulting size is image_rgb1 (the rest of image_rgb2 is dropped...)\n",
    "        input: two r, g, b images\n",
    "        output: a transformed r, g, b image (the \"overlap image\")\n",
    "    \"\"\"    \n",
    "    num_rows1 = len(image_rgb1) \n",
    "    num_cols1 = len(image_rgb1[0]) \n",
    "    \n",
    "    num_rows2 = len(image_rgb2) \n",
    "    num_cols2 = len(image_rgb2[0]) \n",
    "    \n",
    "    image_new = copy.deepcopy(image_rgb1)  # not symmetric! image_rgb1 is the \"background\"\n",
    "    \n",
    "    max_row = min(num_rows1,uly+num_rows2) # no more than num_rows1\n",
    "    max_col = min(num_cols1,ulx+num_cols2) # no more than num_cols1 \n",
    "    \n",
    "    for row in range(uly,max_row):\n",
    "        for col in range(ulx,max_col):\n",
    "            image_new[row][col] = image_rgb2[row-uly][col-ulx]  # put 2nd image over 1st\n",
    "            \n",
    "    return image_new"
   ]
  },
  {
   "cell_type": "code",
   "execution_count": null,
   "metadata": {
    "id": "gk-AP7wQDpmM"
   },
   "outputs": [],
   "source": [
    "file1 = \"flag.jpg\"    # feel free to change these!\n",
    "file2 = \"coffee.jpg\"\n",
    "\n",
    "image_rgb1 = getRGB(file1) \n",
    "image_rgb2 = getRGB(file2) \n",
    "image_new = two_image_overlap(image_rgb1,image_rgb2,42,42)\n",
    "\n",
    "fig, ax = plt.subplots(1,3, figsize=(12, 3))\n",
    "\n",
    "ax[0].imshow(image_rgb1)\n",
    "ax[0].axis('off')   \n",
    "ax[0].set_title(f\"{file1}\")\n",
    "\n",
    "ax[1].imshow(image_rgb2)\n",
    "ax[1].axis('off')   \n",
    "ax[1].set_title(f\"{file2}\")\n",
    "\n",
    "ax[2].imshow(image_new)\n",
    "ax[2].axis('off')   \n",
    "ax[2].set_title('two image overlap')\n",
    "\n",
    "plt.show()"
   ]
  },
  {
   "cell_type": "markdown",
   "metadata": {
    "id": "osD0ZwwlDpmM"
   },
   "source": [
    "# Two-image filter templates\n"
   ]
  },
  {
   "cell_type": "code",
   "execution_count": null,
   "metadata": {
    "id": "USRrU8d6DpmM"
   },
   "outputs": [],
   "source": [
    "def new_rgb_filter_two( image_rgb1, image_rgb2 ):\n",
    "    \"\"\" better docstring needed! Explain your two-image filter... \"\"\"\n",
    "    \n",
    "    return image_rgb2  # not yet a combination!  (see above...)"
   ]
  },
  {
   "cell_type": "code",
   "execution_count": null,
   "metadata": {
    "id": "NJA0bJZ3DpmM"
   },
   "outputs": [],
   "source": [
    "file1 = \"flag.jpg\"    # feel free to change these!\n",
    "file2 = \"coffee.jpg\"\n",
    "\n",
    "image_rgb1 = getRGB(file1) \n",
    "image_rgb2 = getRGB(file2) \n",
    "image_new = new_rgb_filter_two(image_rgb1,image_rgb2)\n",
    "\n",
    "fig, ax = plt.subplots(1,3, figsize=(12, 3))\n",
    "\n",
    "ax[0].imshow(image_rgb1)\n",
    "ax[0].axis('off')   \n",
    "ax[0].set_title(f\"{file1}\")\n",
    "\n",
    "ax[1].imshow(image_rgb2)\n",
    "ax[1].axis('off')   \n",
    "ax[1].set_title(f\"{file2}\")\n",
    "\n",
    "ax[2].imshow(image_new)\n",
    "ax[2].axis('off')   \n",
    "ax[2].set_title('two-image filter')\n",
    "\n",
    "plt.show()"
   ]
  },
  {
   "cell_type": "code",
   "execution_count": null,
   "metadata": {
    "id": "DIheOt3DDpmN"
   },
   "outputs": [],
   "source": [
    "def new_hsv_filter_two( image_rgb1, image_rgb2 ):\n",
    "    \"\"\" better docstring needed! Explain your two-image filter... \"\"\"\n",
    "    \n",
    "    return image_rgb1   # again, need to combine the pixels!!"
   ]
  },
  {
   "cell_type": "code",
   "execution_count": null,
   "metadata": {
    "id": "jNrbCHK2DpmN"
   },
   "outputs": [],
   "source": [
    "file1 = \"flag.jpg\"    # feel free to change these!\n",
    "file2 = \"coffee.jpg\"\n",
    "\n",
    "image_rgb1 = getRGB(file1) \n",
    "image_rgb2 = getRGB(file2) \n",
    "image_new = new_hsv_filter_two(image_rgb1,image_rgb2)\n",
    "\n",
    "fig, ax = plt.subplots(1,3, figsize=(12, 3))\n",
    "\n",
    "ax[0].imshow(image_rgb1)\n",
    "ax[0].axis('off')   \n",
    "ax[0].set_title(f\"{file1}\")\n",
    "\n",
    "ax[1].imshow(image_rgb2)\n",
    "ax[1].axis('off')   \n",
    "ax[1].set_title(f\"{file2}\")\n",
    "\n",
    "ax[2].imshow(image_new)\n",
    "ax[2].axis('off')   \n",
    "ax[2].set_title('two-image filter')\n",
    "\n",
    "plt.show()"
   ]
  },
  {
   "cell_type": "markdown",
   "metadata": {
    "id": "y_5UiSxtDpmN"
   },
   "source": [
    "# Greenscreen\n",
    "\n",
    "Here, combine the `hsv_green()` and `two_image_overlap()` functions to do greenscreen things!"
   ]
  },
  {
   "cell_type": "code",
   "execution_count": null,
   "metadata": {
    "id": "H2zvSgIrDpmN"
   },
   "outputs": [],
   "source": [
    "resizeMe = \"flag.jpg\"\n",
    "resizedImage = \"smallFlag.jpg\"\n",
    "newSize = (255,143)\n",
    "\n",
    "a = Image.open(resizeMe)\n",
    "print(f\"Original image is {a.size}\")\n",
    "a = a.resize(newSize)\n",
    "a.save(resizedImage,optimize=True, quality=95)\n",
    "print(f\"New image is {a.size}\")"
   ]
  },
  {
   "cell_type": "code",
   "execution_count": null,
   "metadata": {
    "id": "BlYKmaCADpmN"
   },
   "outputs": [],
   "source": [
    "def saveRGB( PX, filename ):\n",
    "    \"\"\" saves a list-of-lists-of-lists of rgb pixels (PX) where\n",
    "        len(PX) == the # of rows\n",
    "        len(PX[0]) == the # of columns\n",
    "        len(PX[0][0]) should be 3 (rgb)\n",
    "    \"\"\"\n",
    "    boxed_pixels = PX\n",
    "    print( 'Starting to save', filename, '...' )\n",
    "    H = len(PX)\n",
    "    W = len(PX[0])\n",
    "    im = Image.new(\"RGB\", (W, H), \"black\")\n",
    "    px = im.load()\n",
    "    for r in range(H):\n",
    "        for c in range(W):\n",
    "            bp = boxed_pixels[r][c]\n",
    "            t = tuple(bp)\n",
    "            px[c,r] = t\n",
    "    im.save( filename )\n",
    "    time.sleep(0.42)   # give the filesystem some time...\n",
    "    print( filename, \"saved.\" )    "
   ]
  },
  {
   "cell_type": "code",
   "execution_count": null,
   "metadata": {
    "id": "InYA30SODpmN"
   },
   "outputs": [],
   "source": [
    "def greenscreen( image_rgb1, image_rgb2, ulx, uly ):\n",
    "    \"\"\" an example of a two-image pixel-by-pixel filter\n",
    "            puts image_rgb2 on top of image_rgb1 at upper-left-x (ulx) (col) and upper-left-y (uly) (row)\n",
    "            the resulting size is image_rgb1 (the rest of image_rgb2 is dropped...)\n",
    "        input: two r, g, b images\n",
    "        output: a transformed r, g, b image (the \"overlap image\")\n",
    "    \"\"\"    \n",
    "    \n",
    "    image_new = np.asarray(image_rgb1)   # image 1\n",
    "    image_over = np.asarray(image_rgb2)   # image 2\n",
    "    image_hsv = np.apply_along_axis(rgb2hsv, 2, image_over)   # image 2 hsv\n",
    "    \n",
    "    num_rows1 = len(image_rgb1) \n",
    "    num_cols1 = len(image_rgb1[0]) \n",
    "    \n",
    "    num_rows2 = len(image_rgb2) \n",
    "    num_cols2 = len(image_rgb2[0]) \n",
    "    \n",
    "    # image_new = copy.deepcopy(image_rgb1)  # not symmetric! image_rgb1 is the \"background\"\n",
    "    \n",
    "    max_row = min(num_rows1,uly+num_rows2) # no more than num_rows1\n",
    "    max_col = min(num_cols1,ulx+num_cols2) # no more than num_cols1 \n",
    "    \n",
    "    for row in range(uly,max_row):\n",
    "        for col in range(ulx,max_col):\n",
    "            r, g, b = image_over[row-uly][col-ulx]   # image 2 rgb\n",
    "            h, s, v = image_hsv[row-uly][col-ulx]    # image 2 hsv\n",
    "            # image_new[row][col] = image_rgb2[row-uly][col-ulx]  # put 2nd image over 1st\n",
    "            \n",
    "            if h<110 or h>130:   # Warning:  this is \n",
    "                image_new[row][col] = [r,g,b]  # use image 1 rgb\n",
    "            \n",
    "    return image_new"
   ]
  },
  {
   "cell_type": "code",
   "execution_count": null,
   "metadata": {
    "id": "PQlqSq4xDpmO"
   },
   "outputs": [],
   "source": [
    "# choose the two images and a name for the new image you will create\n",
    "file1 = \"flag.jpg\"   # background image\n",
    "file2 = \"coffee.jpg\"   # image with the green screen\n",
    "newFile = \"greened.jpg\"   # combined image (newly created)\n",
    "\n",
    "image_rgb1 = getRGB(file1) \n",
    "image_rgb2 = getRGB(file2)\n",
    "image_new = greenscreen(image_rgb1,image_rgb2,235,42)\n",
    "show_image(image_new, hgt_in=7, wid_in=7 )\n",
    "saveRGB(image_new, newFile)"
   ]
  }
 ],
 "metadata": {
  "colab": {
   "name": "hw8pr1.ipynb",
   "provenance": []
  },
  "kernelspec": {
   "display_name": "Python 3.10.4 64-bit",
   "language": "python",
   "name": "python3"
  },
  "language_info": {
   "codemirror_mode": {
    "name": "ipython",
    "version": 3
   },
   "file_extension": ".py",
   "mimetype": "text/x-python",
   "name": "python",
   "nbconvert_exporter": "python",
   "pygments_lexer": "ipython3",
   "version": "3.10.4"
  },
  "vscode": {
   "interpreter": {
    "hash": "aee8b7b246df8f9039afb4144a1f6fd8d2ca17a180786b69acc140d282b71a49"
   }
  }
 },
 "nbformat": 4,
 "nbformat_minor": 1
}
